{
 "cells": [
  {
   "cell_type": "code",
   "execution_count": 0,
   "metadata": {
    "colab": {},
    "colab_type": "code",
    "id": "CcgZwKexd-f9"
   },
   "outputs": [],
   "source": [
    "from google.colab import drive\n",
    "drive.mount('/content/drive')"
   ]
  },
  {
   "cell_type": "code",
   "execution_count": 0,
   "metadata": {
    "colab": {},
    "colab_type": "code",
    "id": "KSavr7kQeYQJ"
   },
   "outputs": [],
   "source": [
    "!cp /content/drive/My\\ Drive/Datasets/DaGuan/TextClassification/new_data.7z ./\n",
    "!7z x new_data.7z > /null"
   ]
  },
  {
   "cell_type": "code",
   "execution_count": 0,
   "metadata": {
    "colab": {},
    "colab_type": "code",
    "id": "dNidQNcHeukR"
   },
   "outputs": [],
   "source": [
    "import pandas as pd"
   ]
  },
  {
   "cell_type": "code",
   "execution_count": 0,
   "metadata": {
    "colab": {},
    "colab_type": "code",
    "id": "LESnZiehe-YD"
   },
   "outputs": [],
   "source": [
    "df_train = pd.read_csv('new_data/train_set.csv')"
   ]
  },
  {
   "cell_type": "code",
   "execution_count": 8,
   "metadata": {
    "colab": {
     "base_uri": "https://localhost:8080/",
     "height": 197
    },
    "colab_type": "code",
    "executionInfo": {
     "elapsed": 2512,
     "status": "ok",
     "timestamp": 1578996401485,
     "user": {
      "displayName": "周晨",
      "photoUrl": "https://lh3.googleusercontent.com/a-/AAuE7mB_EStxlMqof2izPILxmQzPbSDZUMwKvE6_ij5C-Q=s64",
      "userId": "07612536397929256121"
     },
     "user_tz": -480
    },
    "id": "dkJjBqaRfXaK",
    "outputId": "ff184ad4-d60f-4a3e-9796-8edfdd12f121"
   },
   "outputs": [
    {
     "data": {
      "text/html": [
       "<div>\n",
       "<style scoped>\n",
       "    .dataframe tbody tr th:only-of-type {\n",
       "        vertical-align: middle;\n",
       "    }\n",
       "\n",
       "    .dataframe tbody tr th {\n",
       "        vertical-align: top;\n",
       "    }\n",
       "\n",
       "    .dataframe thead th {\n",
       "        text-align: right;\n",
       "    }\n",
       "</style>\n",
       "<table border=\"1\" class=\"dataframe\">\n",
       "  <thead>\n",
       "    <tr style=\"text-align: right;\">\n",
       "      <th></th>\n",
       "      <th>id</th>\n",
       "      <th>article</th>\n",
       "      <th>word_seg</th>\n",
       "      <th>class</th>\n",
       "    </tr>\n",
       "  </thead>\n",
       "  <tbody>\n",
       "    <tr>\n",
       "      <th>0</th>\n",
       "      <td>0</td>\n",
       "      <td>7368 1252069 365865 755561 1044285 129532 1053...</td>\n",
       "      <td>816903 597526 520477 1179558 1033823 758724 63...</td>\n",
       "      <td>14</td>\n",
       "    </tr>\n",
       "    <tr>\n",
       "      <th>1</th>\n",
       "      <td>1</td>\n",
       "      <td>581131 165432 7368 957317 1197553 570900 33659...</td>\n",
       "      <td>90540 816903 441039 816903 569138 816903 10343...</td>\n",
       "      <td>3</td>\n",
       "    </tr>\n",
       "    <tr>\n",
       "      <th>2</th>\n",
       "      <td>2</td>\n",
       "      <td>7368 87936 40494 490286 856005 641588 145611 1...</td>\n",
       "      <td>816903 1012629 957974 1033823 328210 947200 65...</td>\n",
       "      <td>12</td>\n",
       "    </tr>\n",
       "    <tr>\n",
       "      <th>3</th>\n",
       "      <td>3</td>\n",
       "      <td>299237 760651 299237 887082 159592 556634 7489...</td>\n",
       "      <td>563568 1239563 680125 780219 782805 1033823 19...</td>\n",
       "      <td>13</td>\n",
       "    </tr>\n",
       "    <tr>\n",
       "      <th>4</th>\n",
       "      <td>4</td>\n",
       "      <td>7368 7368 7368 865510 7368 396966 995243 37685...</td>\n",
       "      <td>816903 816903 816903 139132 816903 312320 1103...</td>\n",
       "      <td>12</td>\n",
       "    </tr>\n",
       "  </tbody>\n",
       "</table>\n",
       "</div>"
      ],
      "text/plain": [
       "   id  ... class\n",
       "0   0  ...    14\n",
       "1   1  ...     3\n",
       "2   2  ...    12\n",
       "3   3  ...    13\n",
       "4   4  ...    12\n",
       "\n",
       "[5 rows x 4 columns]"
      ]
     },
     "execution_count": 8,
     "metadata": {
      "tags": []
     },
     "output_type": "execute_result"
    }
   ],
   "source": [
    "df_train.head()"
   ]
  },
  {
   "cell_type": "code",
   "execution_count": 10,
   "metadata": {
    "colab": {
     "base_uri": "https://localhost:8080/",
     "height": 172
    },
    "colab_type": "code",
    "executionInfo": {
     "elapsed": 3717,
     "status": "ok",
     "timestamp": 1578996989941,
     "user": {
      "displayName": "周晨",
      "photoUrl": "https://lh3.googleusercontent.com/a-/AAuE7mB_EStxlMqof2izPILxmQzPbSDZUMwKvE6_ij5C-Q=s64",
      "userId": "07612536397929256121"
     },
     "user_tz": -480
    },
    "id": "pniJbsfDivm4",
    "outputId": "1cd93921-c778-4c04-ccce-46c5a9240df9"
   },
   "outputs": [
    {
     "data": {
      "text/plain": [
       "count    102277.000000\n",
       "mean        716.954604\n",
       "std         801.804540\n",
       "min           6.000000\n",
       "25%         305.000000\n",
       "50%         514.000000\n",
       "75%         862.000000\n",
       "max       39759.000000\n",
       "Name: word_length, dtype: float64"
      ]
     },
     "execution_count": 10,
     "metadata": {
      "tags": []
     },
     "output_type": "execute_result"
    }
   ],
   "source": [
    "df_train['word_length'] = df_train['word_seg'].map(lambda x:len(x.split(\" \")))\n",
    "df_train['word_length'].describe()"
   ]
  },
  {
   "cell_type": "code",
   "execution_count": 0,
   "metadata": {
    "colab": {},
    "colab_type": "code",
    "id": "90DwV9qzkJur"
   },
   "outputs": [],
   "source": [
    "word_list = []\n",
    "for text in df_train['word_seg'].to_list():\n",
    "    words = text.split(\" \")\n",
    "    word_list += words"
   ]
  },
  {
   "cell_type": "code",
   "execution_count": 0,
   "metadata": {
    "colab": {},
    "colab_type": "code",
    "id": "V66uAnIakhlU"
   },
   "outputs": [],
   "source": [
    "from collections import Counter\n",
    "count_words = pd.Series(Counter(word_list)).sort_values(ascending=False)"
   ]
  },
  {
   "cell_type": "code",
   "execution_count": 14,
   "metadata": {
    "colab": {
     "base_uri": "https://localhost:8080/",
     "height": 137
    },
    "colab_type": "code",
    "executionInfo": {
     "elapsed": 1506,
     "status": "ok",
     "timestamp": 1578997416011,
     "user": {
      "displayName": "周晨",
      "photoUrl": "https://lh3.googleusercontent.com/a-/AAuE7mB_EStxlMqof2izPILxmQzPbSDZUMwKvE6_ij5C-Q=s64",
      "userId": "07612536397929256121"
     },
     "user_tz": -480
    },
    "id": "WhNo2n8Wk5qA",
    "outputId": "558cf6c6-0c49-411e-d0af-7a7dfdadcc98"
   },
   "outputs": [
    {
     "name": "stdout",
     "output_type": "stream",
     "text": [
      "520477     5290340\n",
      "816903     4063036\n",
      "1033823    3358597\n",
      "995362     2025883\n",
      "920327     1028550\n",
      "dtype: int64\n",
      "875129\n"
     ]
    }
   ],
   "source": [
    "print(count_words.head())\n",
    "print(count_words.count())"
   ]
  },
  {
   "cell_type": "code",
   "execution_count": 15,
   "metadata": {
    "colab": {
     "base_uri": "https://localhost:8080/",
     "height": 223
    },
    "colab_type": "code",
    "executionInfo": {
     "elapsed": 1748,
     "status": "ok",
     "timestamp": 1578997599948,
     "user": {
      "displayName": "周晨",
      "photoUrl": "https://lh3.googleusercontent.com/a-/AAuE7mB_EStxlMqof2izPILxmQzPbSDZUMwKvE6_ij5C-Q=s64",
      "userId": "07612536397929256121"
     },
     "user_tz": -480
    },
    "id": "9fK7ujTrlv-w",
    "outputId": "9a58252f-c9d2-4d2a-ffb2-6df07d2a8b7c"
   },
   "outputs": [
    {
     "data": {
      "text/plain": [
       "784632     9\n",
       "750764     9\n",
       "37479      9\n",
       "586811     9\n",
       "332184     9\n",
       "          ..\n",
       "869622     1\n",
       "1115829    1\n",
       "828947     1\n",
       "1124063    1\n",
       "641912     1\n",
       "Length: 708339, dtype: int64"
      ]
     },
     "execution_count": 15,
     "metadata": {
      "tags": []
     },
     "output_type": "execute_result"
    }
   ],
   "source": [
    "count_words[count_words < 10]"
   ]
  },
  {
   "cell_type": "code",
   "execution_count": 18,
   "metadata": {
    "colab": {
     "base_uri": "https://localhost:8080/",
     "height": 486
    },
    "colab_type": "code",
    "executionInfo": {
     "elapsed": 1877,
     "status": "ok",
     "timestamp": 1578997854636,
     "user": {
      "displayName": "周晨",
      "photoUrl": "https://lh3.googleusercontent.com/a-/AAuE7mB_EStxlMqof2izPILxmQzPbSDZUMwKvE6_ij5C-Q=s64",
      "userId": "07612536397929256121"
     },
     "user_tz": -480
    },
    "id": "zpsUMUwRmfb_",
    "outputId": "e1edfed6-0a8e-4793-9006-a03f571674b3"
   },
   "outputs": [
    {
     "data": {
      "image/png": "[encoded data removed]",
      "text/plain": [
       "<Figure size 864x576 with 1 Axes>"
      ]
     },
     "metadata": {
      "tags": []
     },
     "output_type": "display_data"
    }
   ],
   "source": [
    "import matplotlib.pyplot as plt\n",
    "plt.figure(figsize=(12, 8))\n",
    "count_label = df_train['class'].value_counts().plot(kind='bar')"
   ]
  }
 ],
 "metadata": {
  "accelerator": "GPU",
  "colab": {
   "collapsed_sections": [],
   "name": "DaGuanTextClassification.ipynb",
   "provenance": []
  },
  "kernelspec": {
   "display_name": "Python 3",
   "language": "python",
   "name": "python3"
  },
  "language_info": {
   "codemirror_mode": {
    "name": "ipython",
    "version": 3
   },
   "file_extension": ".py",
   "mimetype": "text/x-python",
   "name": "python",
   "nbconvert_exporter": "python",
   "pygments_lexer": "ipython3",
   "version": "3.6.9"
  }
 },
 "nbformat": 4,
 "nbformat_minor": 1
}
