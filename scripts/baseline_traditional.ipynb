{
 "cells": [
  {
   "cell_type": "code",
   "execution_count": 1,
   "metadata": {
    "colab": {},
    "colab_type": "code",
    "id": "DlMswXbtowoS"
   },
   "outputs": [],
   "source": [
    "import pandas as pd\n",
    "import numpy as np"
   ]
  },
  {
   "cell_type": "code",
   "execution_count": 2,
   "metadata": {
    "colab": {},
    "colab_type": "code",
    "id": "JHvEzlC2pEOy"
   },
   "outputs": [],
   "source": [
    "df_train = pd.read_csv('../data/new_data/train_set.csv')\n",
    "df_test = pd.read_csv('../data/new_data/test_set.csv')"
   ]
  },
  {
   "cell_type": "markdown",
   "metadata": {
    "colab_type": "text",
    "id": "aaGUW7Y0yjCq"
   },
   "source": [
    "## 特征工程"
   ]
  },
  {
   "cell_type": "code",
   "execution_count": 4,
   "metadata": {
    "colab": {},
    "colab_type": "code",
    "id": "mPgGbj9Cp6EJ"
   },
   "outputs": [],
   "source": [
    "from sklearn.feature_extraction.text import TfidfVectorizer\n",
    "\n",
    "word_vec = TfidfVectorizer(analyzer='word',\n",
    "            ngram_range=(1,2),\n",
    "            min_df=3,  # 低频词\n",
    "            max_df=0.9,  # 高频词\n",
    "            use_idf=True,\n",
    "            smooth_idf=True, \n",
    "            sublinear_tf=True)"
   ]
  },
  {
   "cell_type": "code",
   "execution_count": 5,
   "metadata": {
    "colab": {},
    "colab_type": "code",
    "id": "KbFfkYWKqpYa"
   },
   "outputs": [],
   "source": [
    "train_doc = word_vec.fit_transform(df_train['word_seg'])\n",
    "test_doc = word_vec.transform(df_test['word_seg'])"
   ]
  },
  {
   "cell_type": "code",
   "execution_count": 6,
   "metadata": {
    "colab": {
     "base_uri": "https://localhost:8080/",
     "height": 34
    },
    "colab_type": "code",
    "executionInfo": {
     "elapsed": 1537,
     "status": "ok",
     "timestamp": 1579058777307,
     "user": {
      "displayName": "周晨",
      "photoUrl": "https://lh3.googleusercontent.com/a-/AAuE7mB_EStxlMqof2izPILxmQzPbSDZUMwKvE6_ij5C-Q=s64",
      "userId": "07612536397929256121"
     },
     "user_tz": -480
    },
    "id": "u0tAfLAJqwdZ",
    "outputId": "27a40337-dc11-43fd-f437-6357ab7d09aa"
   },
   "outputs": [
    {
     "name": "stdout",
     "output_type": "stream",
     "text": [
      "<class 'scipy.sparse.csr.csr_matrix'>\n"
     ]
    }
   ],
   "source": [
    "print(type(train_doc))"
   ]
  },
  {
   "cell_type": "markdown",
   "metadata": {
    "colab_type": "text",
    "id": "psrvZv9Vyl6g"
   },
   "source": [
    "## 模型训练"
   ]
  },
  {
   "cell_type": "code",
   "execution_count": 7,
   "metadata": {
    "colab": {
     "base_uri": "https://localhost:8080/",
     "height": 34
    },
    "colab_type": "code",
    "executionInfo": {
     "elapsed": 3444,
     "status": "ok",
     "timestamp": 1579058794678,
     "user": {
      "displayName": "周晨",
      "photoUrl": "https://lh3.googleusercontent.com/a-/AAuE7mB_EStxlMqof2izPILxmQzPbSDZUMwKvE6_ij5C-Q=s64",
      "userId": "07612536397929256121"
     },
     "user_tz": -480
    },
    "id": "KV4zLZcSxIZT",
    "outputId": "6e4653e1-3191-42e0-d682-da46106c1eab"
   },
   "outputs": [
    {
     "data": {
      "text/plain": [
       "array([13,  2, 11, ..., 11,  3, 10], dtype=int64)"
      ]
     },
     "execution_count": 7,
     "metadata": {},
     "output_type": "execute_result"
    }
   ],
   "source": [
    "from sklearn.preprocessing import LabelEncoder\n",
    "lb = LabelEncoder()\n",
    "df_train['label'] = lb.fit_transform(df_train['class'])\n",
    "lb.fit_transform(df_train['class'])"
   ]
  },
  {
   "cell_type": "code",
   "execution_count": 8,
   "metadata": {
    "colab": {},
    "colab_type": "code",
    "id": "k_r_52SExaP0"
   },
   "outputs": [
    {
     "data": {
      "text/plain": [
       "LogisticRegression(C=4, class_weight=None, dual=True, fit_intercept=True,\n",
       "                   intercept_scaling=1, l1_ratio=None, max_iter=100,\n",
       "                   multi_class='auto', n_jobs=None, penalty='l2',\n",
       "                   random_state=None, solver='liblinear', tol=0.0001, verbose=0,\n",
       "                   warm_start=False)"
      ]
     },
     "execution_count": 8,
     "metadata": {},
     "output_type": "execute_result"
    }
   ],
   "source": [
    "from sklearn.linear_model import LogisticRegression\n",
    "clf = LogisticRegression(C=4, solver='liblinear', dual=True) \n",
    "clf.fit(train_doc, df_train['label'])"
   ]
  },
  {
   "cell_type": "markdown",
   "metadata": {
    "colab_type": "text",
    "id": "0UYJmpqNyoiG"
   },
   "source": [
    "## 预测提交"
   ]
  },
  {
   "cell_type": "code",
   "execution_count": 9,
   "metadata": {
    "colab": {},
    "colab_type": "code",
    "id": "N20Q69Qaya0Y"
   },
   "outputs": [],
   "source": [
    "test_prob = clf.predict_proba(test_doc)"
   ]
  },
  {
   "cell_type": "code",
   "execution_count": 10,
   "metadata": {
    "colab": {},
    "colab_type": "code",
    "id": "386Yj85MyhJS"
   },
   "outputs": [],
   "source": [
    "test_pred = np.argmax(test_prob, axis=1)\n",
    "df_test['class'] = lb.inverse_transform(test_pred)\n",
    "df_test[[\"id\",\"class\"]].to_csv(\"submission_traditional_baseline.csv\", index=False, header=True, encoding='utf-8')"
   ]
  }
 ],
 "metadata": {
  "colab": {
   "collapsed_sections": [],
   "machine_shape": "hm",
   "name": "达观-文本分类.ipynb",
   "provenance": [],
   "toc_visible": true
  },
  "kernelspec": {
   "display_name": "Python 3",
   "language": "python",
   "name": "python3"
  },
  "language_info": {
   "codemirror_mode": {
    "name": "ipython",
    "version": 3
   },
   "file_extension": ".py",
   "mimetype": "text/x-python",
   "name": "python",
   "nbconvert_exporter": "python",
   "pygments_lexer": "ipython3",
   "version": "3.6.9"
  }
 },
 "nbformat": 4,
 "nbformat_minor": 1
}
