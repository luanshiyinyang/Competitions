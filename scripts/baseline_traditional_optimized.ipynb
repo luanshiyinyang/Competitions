{
 "cells": [
  {
   "cell_type": "code",
   "execution_count": 1,
   "metadata": {
    "colab": {},
    "colab_type": "code",
    "id": "DlMswXbtowoS"
   },
   "outputs": [],
   "source": [
    "import pandas as pd\n",
    "import numpy as np"
   ]
  },
  {
   "cell_type": "code",
   "execution_count": 5,
   "metadata": {
    "colab": {},
    "colab_type": "code",
    "id": "JHvEzlC2pEOy"
   },
   "outputs": [],
   "source": [
    "df_train = pd.read_csv('../data/new_data/train_set.csv')\n",
    "df_test = pd.read_csv('../data/new_data/test_set.csv')"
   ]
  },
  {
   "cell_type": "markdown",
   "metadata": {
    "colab_type": "text",
    "id": "aaGUW7Y0yjCq"
   },
   "source": [
    "## 特征工程"
   ]
  },
  {
   "cell_type": "code",
   "execution_count": 6,
   "metadata": {
    "colab": {},
    "colab_type": "code",
    "id": "mPgGbj9Cp6EJ"
   },
   "outputs": [],
   "source": [
    "from sklearn.feature_extraction.text import TfidfVectorizer\n",
    "\n",
    "word_vec = TfidfVectorizer(analyzer='word',\n",
    "            ngram_range=(1,2),\n",
    "            min_df=3,  # 低频词\n",
    "            max_df=0.9,  # 高频词\n",
    "            use_idf=True,\n",
    "            smooth_idf=True, \n",
    "            sublinear_tf=True)"
   ]
  },
  {
   "cell_type": "code",
   "execution_count": 7,
   "metadata": {
    "colab": {},
    "colab_type": "code",
    "id": "KbFfkYWKqpYa"
   },
   "outputs": [],
   "source": [
    "train_doc = word_vec.fit_transform(df_train['word_seg'])\n",
    "test_doc = word_vec.transform(df_test['word_seg'])"
   ]
  },
  {
   "cell_type": "code",
   "execution_count": 8,
   "metadata": {},
   "outputs": [
    {
     "name": "stdout",
     "output_type": "stream",
     "text": [
      "<class 'scipy.sparse.csr.csr_matrix'>\n"
     ]
    }
   ],
   "source": [
    "print(type(train_doc))"
   ]
  },
  {
   "cell_type": "code",
   "execution_count": null,
   "metadata": {},
   "outputs": [],
   "source": [
    "char_vec = TfidfVectorizer(analyzer='word',\n",
    "            ngram_range=(1,2),\n",
    "            min_df=3,  # 低频词\n",
    "            max_df=0.9,  # 高频词\n",
    "            use_idf=True,\n",
    "            smooth_idf=True, \n",
    "            sublinear_tf=True)\n",
    "train_char = char_vec.fit_transform(df_train['article'])\n",
    "test_char = char_vec.transform(df_test['article'])"
   ]
  },
  {
   "cell_type": "code",
   "execution_count": null,
   "metadata": {
    "colab": {
     "base_uri": "https://localhost:8080/",
     "height": 34
    },
    "colab_type": "code",
    "executionInfo": {
     "elapsed": 1537,
     "status": "ok",
     "timestamp": 1579058777307,
     "user": {
      "displayName": "周晨",
      "photoUrl": "https://lh3.googleusercontent.com/a-/AAuE7mB_EStxlMqof2izPILxmQzPbSDZUMwKvE6_ij5C-Q=s64",
      "userId": "07612536397929256121"
     },
     "user_tz": -480
    },
    "id": "u0tAfLAJqwdZ",
    "outputId": "27a40337-dc11-43fd-f437-6357ab7d09aa"
   },
   "outputs": [],
   "source": [
    "from scipy.sparse import hstack\n",
    "train_all = hstack([train_doc, train_char])\n",
    "test_all = hstack([test_doc, test_char])"
   ]
  },
  {
   "cell_type": "code",
   "execution_count": 9,
   "metadata": {},
   "outputs": [],
   "source": [
    "from sklearn.preprocessing import LabelEncoder\n",
    "lb = LabelEncoder()\n",
    "df_train['label'] = lb.fit_transform(df_train['class'])"
   ]
  },
  {
   "cell_type": "code",
   "execution_count": 10,
   "metadata": {},
   "outputs": [],
   "source": [
    "from sklearn.model_selection import train_test_split\n",
    "x_train, x_valid, y_train, y_valid = train_test_split(train_doc, df_train['label'], test_size=0.2, shuffle=True, random_state=2019)"
   ]
  },
  {
   "cell_type": "markdown",
   "metadata": {
    "colab_type": "text",
    "id": "psrvZv9Vyl6g"
   },
   "source": [
    "## 模型训练"
   ]
  },
  {
   "cell_type": "code",
   "execution_count": 11,
   "metadata": {
    "colab": {},
    "colab_type": "code",
    "id": "k_r_52SExaP0"
   },
   "outputs": [],
   "source": [
    "import lightgbm as lgb"
   ]
  },
  {
   "cell_type": "code",
   "execution_count": 12,
   "metadata": {},
   "outputs": [],
   "source": [
    "model = lgb.LGBMClassifier(\n",
    "    boosting_type='gbdt',\n",
    "    num_leaves=2**5,\n",
    "    max_depth=-1,\n",
    "    learning_rate=0.1,\n",
    "    n_estimators=2000, \n",
    "    objective='multiclass',\n",
    "    subsample=0.7, \n",
    "    colsample_bytree=0.5, \n",
    "    reg_lambda=10, \n",
    "    n_jobs=16, \n",
    "    num_class=19, \n",
    "    silent=True, \n",
    "    random_state=2019, \n",
    "    colsample_bylevel=0.5, \n",
    "    min_child_weight=1.5, \n",
    "    metric='multi_logloss'\n",
    "    \n",
    ")"
   ]
  },
  {
   "cell_type": "code",
   "execution_count": null,
   "metadata": {},
   "outputs": [],
   "source": [
    "model.fit(x_train, y_train, eval_set=(x_valid, y_valid), early_stopping_rounds=100)"
   ]
  },
  {
   "cell_type": "markdown",
   "metadata": {},
   "source": [
    "## 模型验证"
   ]
  },
  {
   "cell_type": "code",
   "execution_count": null,
   "metadata": {},
   "outputs": [],
   "source": [
    "from sklearn.metrics import f1_score\n",
    "y_valid = model.predict_proba(x_valid)\n",
    "y_valid = np.argmax(y_valid, axis=1)\n",
    "pred_valid = lb.inverse_transform(y_valid)\n",
    "valid_score = f1_score(y_valid, pred_valid, average='macro')\n",
    "print(\"valid score is {}\".format(valid_score))"
   ]
  },
  {
   "cell_type": "markdown",
   "metadata": {
    "colab_type": "text",
    "id": "0UYJmpqNyoiG"
   },
   "source": [
    "## 预测提交"
   ]
  },
  {
   "cell_type": "code",
   "execution_count": 9,
   "metadata": {
    "colab": {},
    "colab_type": "code",
    "id": "N20Q69Qaya0Y"
   },
   "outputs": [],
   "source": [
    "test_prob = clf.predict_proba(test_doc)"
   ]
  },
  {
   "cell_type": "code",
   "execution_count": 10,
   "metadata": {
    "colab": {},
    "colab_type": "code",
    "id": "386Yj85MyhJS"
   },
   "outputs": [],
   "source": [
    "test_pred = np.argmax(test_prob, axis=1)\n",
    "df_test['class'] = lb.inverse_transform(test_pred)\n",
    "df_test[[\"id\",\"class\"]].to_csv(\"submission_traditional_baseline.csv\", index=False, header=True, encoding='utf-8')"
   ]
  }
 ],
 "metadata": {
  "colab": {
   "collapsed_sections": [],
   "machine_shape": "hm",
   "name": "达观-文本分类.ipynb",
   "provenance": [],
   "toc_visible": true
  },
  "kernelspec": {
   "display_name": "Python 3",
   "language": "python",
   "name": "python3"
  },
  "language_info": {
   "codemirror_mode": {
    "name": "ipython",
    "version": 3
   },
   "file_extension": ".py",
   "mimetype": "text/x-python",
   "name": "python",
   "nbconvert_exporter": "python",
   "pygments_lexer": "ipython3",
   "version": "3.6.9"
  }
 },
 "nbformat": 4,
 "nbformat_minor": 1
}
